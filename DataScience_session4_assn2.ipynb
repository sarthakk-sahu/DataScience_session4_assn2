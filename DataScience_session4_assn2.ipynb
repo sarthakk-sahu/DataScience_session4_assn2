{
 "cells": [
  {
   "cell_type": "code",
   "execution_count": 2,
   "metadata": {},
   "outputs": [
    {
     "name": "stdout",
     "output_type": "stream",
     "text": [
      "[2, 5, 5, 4]\n"
     ]
    }
   ],
   "source": [
    "''' Write a Python program using function concept that maps list of words into a list of integers\n",
    " representing the lengths of the corresponding words.\n",
    "\n",
    " Hint:​ ​If a list [ ab,cde,erty] is passed on to the python function output should come as [2,3,4]\n",
    " Here 2,3 and 4 are the lengths of the words in the list.\n",
    "'''\n",
    "def length_of_words(list1):\n",
    "    templist = []\n",
    "    for word in list1:\n",
    "        templist.append(len(word))\n",
    "    return templist\n",
    "\n",
    "print(length_of_words(['Hi', 'Hello', 'Apple', 'joke']))\n",
    "    "
   ]
  },
  {
   "cell_type": "code",
   "execution_count": 6,
   "metadata": {},
   "outputs": [
    {
     "name": "stdout",
     "output_type": "stream",
     "text": [
      "True\n",
      "False\n",
      "False\n",
      "True\n",
      "True\n"
     ]
    }
   ],
   "source": [
    "# Write a Python function which takes a character (i.e. a string of length 1) and returns True if it is\n",
    "# a vowel, False otherwise.\n",
    "\n",
    "def isVowel(char):\n",
    "\n",
    "    if char.lower() in 'aeiou':\n",
    "        return True\n",
    "    else:\n",
    "        return False\n",
    "    \n",
    "print(isVowel(\"U\"))\n",
    "print(isVowel(\"X\"))\n",
    "print(isVowel(\"T\"))\n",
    "print(isVowel(\"u\"))\n",
    "print(isVowel(\"i\"))"
   ]
  }
 ],
 "metadata": {
  "kernelspec": {
   "display_name": "Python 3",
   "language": "python",
   "name": "python3"
  },
  "language_info": {
   "codemirror_mode": {
    "name": "ipython",
    "version": 3
   },
   "file_extension": ".py",
   "mimetype": "text/x-python",
   "name": "python",
   "nbconvert_exporter": "python",
   "pygments_lexer": "ipython3",
   "version": "3.6.3"
  }
 },
 "nbformat": 4,
 "nbformat_minor": 2
}
